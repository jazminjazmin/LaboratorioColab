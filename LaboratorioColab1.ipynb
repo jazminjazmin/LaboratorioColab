{
  "nbformat": 4,
  "nbformat_minor": 0,
  "metadata": {
    "colab": {
      "name": "LaboratorioColab1.ipynb",
      "provenance": [],
      "collapsed_sections": [],
      "authorship_tag": "ABX9TyPyr+2l1Q7GsrG3U1jfucmc",
      "include_colab_link": true
    },
    "kernelspec": {
      "name": "python3",
      "display_name": "Python 3"
    },
    "language_info": {
      "name": "python"
    }
  },
  "cells": [
    {
      "cell_type": "markdown",
      "metadata": {
        "id": "view-in-github",
        "colab_type": "text"
      },
      "source": [
        "<a href=\"https://colab.research.google.com/github/jazminjazmin/LaboratorioColab/blob/main/LaboratorioColab1.ipynb\" target=\"_parent\"><img src=\"https://colab.research.google.com/assets/colab-badge.svg\" alt=\"Open In Colab\"/></a>"
      ]
    },
    {
      "cell_type": "code",
      "execution_count": null,
      "metadata": {
        "id": "rAr3wYAxBU9u"
      },
      "outputs": [],
      "source": [
        ""
      ]
    },
    {
      "cell_type": "code",
      "source": [
        "print('Hola Mundo')"
      ],
      "metadata": {
        "colab": {
          "base_uri": "https://localhost:8080/"
        },
        "id": "AyFo2QrkBtvY",
        "outputId": "b065f287-a406-4b8f-eb4c-45af979f3144"
      },
      "execution_count": 1,
      "outputs": [
        {
          "output_type": "stream",
          "name": "stdout",
          "text": [
            "Hola Mundo\n"
          ]
        }
      ]
    },
    {
      "cell_type": "code",
      "source": [
        "\n",
        "import pandas as pd\n",
        "from google.colab import auth\n",
        "auth,auth.authenticate_user()\n",
        "\n",
        "import gspread\n",
        "from google.auth import default\n",
        "creds, _=default()\n",
        "\n",
        "gc=gspread.authorize(creds)\n",
        "sh=gc.create('FirstSheet')\n",
        "\n",
        "\n",
        "\n"
      ],
      "metadata": {
        "id": "1k3vygINCqa-"
      },
      "execution_count": 3,
      "outputs": []
    },
    {
      "cell_type": "code",
      "source": [
        "worksheet= gc.open('FirstSheet').sheet1\n",
        "cell_list=worksheet.range('A1:G14')\n",
        "\n",
        "import random \n",
        "for cell in cell_list:\n",
        "  cell.value=random.randint(1,10)\n",
        "\n",
        "worksheet.update_cells(cell_list)"
      ],
      "metadata": {
        "colab": {
          "base_uri": "https://localhost:8080/"
        },
        "id": "XYVDMULnEuDD",
        "outputId": "24be5ba2-3d14-44c0-d092-4b5f39e1034b"
      },
      "execution_count": 4,
      "outputs": [
        {
          "output_type": "execute_result",
          "data": {
            "text/plain": [
              "{'spreadsheetId': '1P75JZdepc9bA9gtgA1pVpI7cL7XqlRUzciodL6wcDuI',\n",
              " 'updatedCells': 98,\n",
              " 'updatedColumns': 7,\n",
              " 'updatedRange': \"'Hoja 1'!A1:G14\",\n",
              " 'updatedRows': 14}"
            ]
          },
          "metadata": {},
          "execution_count": 4
        }
      ]
    },
    {
      "cell_type": "code",
      "source": [
        "worksheet=gc.open('FirstSheet').sheet1\n",
        "rows=worksheet.get_all_values()\n",
        "print(rows)"
      ],
      "metadata": {
        "colab": {
          "base_uri": "https://localhost:8080/"
        },
        "id": "XXU362koH9Ew",
        "outputId": "14cb02ed-41fc-4818-ab82-8d9e4df221cc"
      },
      "execution_count": 5,
      "outputs": [
        {
          "output_type": "stream",
          "name": "stdout",
          "text": [
            "[['1', '4', '6', '4', '4', '2', '1'], ['10', '2', '9', '10', '5', '2', '10'], ['3', '6', '8', '4', '4', '5', '6'], ['4', '6', '1', '5', '4', '1', '8'], ['4', '5', '6', '7', '2', '4', '6'], ['1', '4', '9', '4', '2', '4', '9'], ['10', '4', '1', '4', '6', '4', '6'], ['4', '6', '3', '8', '4', '5', '4'], ['6', '8', '10', '7', '5', '3', '4'], ['2', '9', '10', '9', '3', '10', '1'], ['4', '2', '5', '3', '2', '8', '10'], ['8', '8', '5', '1', '5', '7', '2'], ['9', '5', '5', '3', '6', '3', '9'], ['7', '9', '8', '10', '9', '1', '6']]\n"
          ]
        }
      ]
    }
  ]
}